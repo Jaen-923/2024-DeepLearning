{
  "nbformat": 4,
  "nbformat_minor": 0,
  "metadata": {
    "colab": {
      "provenance": []
    },
    "kernelspec": {
      "name": "python3",
      "display_name": "Python 3"
    },
    "language_info": {
      "name": "python"
    }
  },
  "cells": [
    {
      "cell_type": "code",
      "execution_count": null,
      "metadata": {
        "id": "YWjhcqehYj_w"
      },
      "outputs": [],
      "source": [
        "import numpy as np\n",
        "import tensorflow as tf\n",
        "from PIL import Image\n",
        "import os\n",
        "\n",
        "cnn=tf.keras.models.load_model(\"my_cnn_for_deploy.h5\")\n",
        "class_names=['airplane','automobile','bird','cat','deer','dog','flog','horse','ship','truck']\n",
        "x_test=[]\n",
        "for filename in os.listdir(\"./test_images\"):\n",
        "    if 'jpg' not in filename:\n",
        "        continue\n",
        "    img=Image.open(\"./test_images/\"+filename)\n",
        "    x=np.asarray(img.resize([32,32]))/255.0\n",
        "    x_test.append(x)\n",
        "x_test=np.asarray(x_test)\n",
        "\n",
        "pred=cnn.predict(x_test)\n",
        "\n",
        "import matplotlib.pyplot as plt\n",
        "\n",
        "n=len(x_test)\n",
        "plt.figure(figsize=(18,4))\n",
        "\n",
        "for i in range(n):\n",
        "    plt.subplot(2,n,i+1)\n",
        "    plt.imshow(x_test[i])\n",
        "    plt.xticks([]);plt.yticks([])\n",
        "    plt.subplot(2,n,n+i+1)\n",
        "    if i==0:\n",
        "        plt.barh(class_names,pred[i])\n",
        "    else:\n",
        "        plt.barh(['a','A','b','c','d','D','f','h','s','t'],pred[i])\n",
        "    plt.xticks([])"
      ]
    }
  ]
}