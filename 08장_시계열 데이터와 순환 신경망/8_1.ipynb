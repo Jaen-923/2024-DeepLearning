{
  "nbformat": 4,
  "nbformat_minor": 0,
  "metadata": {
    "colab": {
      "provenance": []
    },
    "kernelspec": {
      "name": "python3",
      "display_name": "Python 3"
    },
    "language_info": {
      "name": "python"
    }
  },
  "cells": [
    {
      "cell_type": "code",
      "execution_count": null,
      "metadata": {
        "id": "5RP3Igk8uI3J"
      },
      "outputs": [],
      "source": [
        "import numpy as np\n",
        "import pandas as pd\n",
        "import matplotlib.pyplot as plt\n",
        "\n",
        "# 코인데스크 사이트에서 다운로드한 1년치 비트코인 가격 데이터 읽기\n",
        "f=open('BTC_USD_2019-02-28_2020-02-27-CoinDesk.csv','r')\n",
        "coindesk_data=pd.read_csv(f,header=0)\n",
        "seq=coindesk_data[['Closing Price (USD)']].to_numpy() # 종가만 취함\n",
        "print('데이터 길이:',len(seq),'\\n앞쪽 5개 값:',seq[0:5])\n",
        "\n",
        "# 그래프로 데이터 확인\n",
        "plt.plot(seq,color='red')\n",
        "plt.title('Bitcoin Prices (1 year from 2019-02-28)')\n",
        "plt.xlabel('Days');plt.ylabel('Price in USD')\n",
        "plt.show()"
      ]
    },
    {
      "cell_type": "code",
      "source": [
        "# 시계열 데이터를 윈도우 단위로 자르는 함수\n",
        "def seq2dataset(seq,window,horizon):\n",
        "    X=[]; Y=[]\n",
        "    for i in range(len(seq)-(window+horizon)+1):\n",
        "        x=seq[i:(i+window)]\n",
        "        y=(seq[i+window+horizon-1])\n",
        "        X.append(x); Y.append(y)\n",
        "    return np.array(X), np.array(Y)\n",
        "\n",
        "w=7 # 윈도우 크기\n",
        "h=1 # 수평선 계수\n",
        "\n",
        "X,Y = seq2dataset(seq,w,h)\n",
        "print(X.shape,Y.shape)\n",
        "print(X[0],Y[0]); print(X[-1],Y[-1])"
      ],
      "metadata": {
        "id": "zccfQOtdurm8"
      },
      "execution_count": null,
      "outputs": []
    }
  ]
}