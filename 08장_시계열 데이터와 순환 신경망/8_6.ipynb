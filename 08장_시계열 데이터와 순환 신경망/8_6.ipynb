{
  "nbformat": 4,
  "nbformat_minor": 0,
  "metadata": {
    "colab": {
      "provenance": []
    },
    "kernelspec": {
      "name": "python3",
      "display_name": "Python 3"
    },
    "language_info": {
      "name": "python"
    }
  },
  "cells": [
    {
      "cell_type": "code",
      "execution_count": null,
      "metadata": {
        "id": "WLPK-DFDiuqp"
      },
      "outputs": [],
      "source": [
        "import os\n",
        "\n",
        "# 원본 IMDB 데이터 읽기\n",
        "directory='./data/aclImdb/aclImdb/test'\n",
        "x=[];y=[]\n",
        "for c in ['neg','pos']:\n",
        "    curr=os.path.join(directory,c)\n",
        "    for fname in os.listdir(curr):\n",
        "        if fname[-4:]=='.txt':\n",
        "            f=open(os.path.join(curr,fname),encoding='utf8')\n",
        "            x.append(f.read())\n",
        "            y.append(c)\n",
        "\n",
        "print(\"첫 번째 댓글:\",x[0]); print(\"첫 번째 평가:\",y[0])\n",
        "print(\"마지막 댓글:\",x[-1]); print(\"마지막 평가:\",y[-1])"
      ]
    }
  ]
}