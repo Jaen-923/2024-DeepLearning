{
  "nbformat": 4,
  "nbformat_minor": 0,
  "metadata": {
    "colab": {
      "provenance": []
    },
    "kernelspec": {
      "name": "python3",
      "display_name": "Python 3"
    },
    "language_info": {
      "name": "python"
    }
  },
  "cells": [
    {
      "cell_type": "code",
      "execution_count": null,
      "metadata": {
        "id": "WLPK-DFDiuqp"
      },
      "outputs": [],
      "source": [
        "from tensorflow.keras.datasets import imdb\n",
        "from tensorflow.keras.models import Sequential\n",
        "from tensorflow.keras.layers import Dense,Flatten,Embedding\n",
        "from tensorflow.keras import preprocessing\n",
        "\n",
        "dic_siz=10000 # 사전에 있는 단어 개수\n",
        "sample_siz=512 # 샘플의 크기\n",
        "\n",
        "# tensorflow가 제공하는 간소한 버전의 IMDB 읽기\n",
        "(x_train,y_train),(x_test,y_test)=imdb.load_data(num_words=dic_siz)\n",
        "print(x_train.shape,x_test.shape)\n",
        "print(x_train[0])\n",
        "\n",
        "# 단어를 숫자, 숫자를 단어로 변환하는데 쓰는 표\n",
        "word2id=imdb.get_word_index()\n",
        "id2word={word:id for id,word in word2id.items()}\n",
        "\n",
        "for i in range(1,21):\n",
        "    print(id2word[i],end='/')\n",
        "\n",
        "embed_space_dim=16 # 16차원의 임베딩 공간\n",
        "\n",
        "x_train=preprocessing.sequence.pad_sequences(x_train,maxlen=sample_siz)\n",
        "x_test=preprocessing.sequence.pad_sequences(x_test,maxlen=sample_siz)\n",
        "\n",
        "# 신경망 모델 설계와 학습\n",
        "embed=Sequential()\n",
        "embed.add(Embedding(input_dim=dic_siz,output_dim=embed_space_dim,input_length=sample_siz))\n",
        "embed.add(Flatten())\n",
        "embed.add(Dense(32,activation='relu'))\n",
        "embed.add(Dense(1,activation='sigmoid'))\n",
        "embed.compile(loss='binary_crossentropy',optimizer='Adam',metrics=['accuracy'])\n",
        "hist=embed.fit(x_train,y_train,epochs=20,batch_size=64,validation_data=(x_test,y_test),verbose=2)\n",
        "\n",
        "embed.summary()\n",
        "\n",
        "# 모델 평가\n",
        "res=embed.evaluate(x_test,y_test,verbose=0)\n",
        "print(\"정확률은\",res[1]*100)\n",
        "\n",
        "import matplotlib.pyplot as plt\n",
        "\n",
        "# 학습 곡선\n",
        "plt.plot(hist.history['accuracy'])\n",
        "plt.plot(hist.history['val_accuracy'])\n",
        "plt.title('Model accuracy')\n",
        "plt.ylabel('Accuracy')\n",
        "plt.xlabel('Epoch')\n",
        "plt.legend(['Train','Validation'], loc='best')\n",
        "plt.grid()\n",
        "plt.show()"
      ]
    }
  ]
}