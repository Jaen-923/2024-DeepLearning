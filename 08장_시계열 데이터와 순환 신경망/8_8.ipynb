{
  "nbformat": 4,
  "nbformat_minor": 0,
  "metadata": {
    "colab": {
      "provenance": []
    },
    "kernelspec": {
      "name": "python3",
      "display_name": "Python 3"
    },
    "language_info": {
      "name": "python"
    }
  },
  "cells": [
    {
      "cell_type": "code",
      "execution_count": null,
      "metadata": {
        "id": "WLPK-DFDiuqp"
      },
      "outputs": [],
      "source": [
        "from tensorflow.keras.datasets import imdb\n",
        "from tensorflow.keras.models import Sequential\n",
        "from tensorflow.keras.layers import Dense,LSTM,Embedding\n",
        "from tensorflow.keras import preprocessing\n",
        "from tensorflow.keras.callbacks import EarlyStopping\n",
        "\n",
        "dic_siz=10000\n",
        "sample_siz=512\n",
        "\n",
        "# tensorflow가 제공하는 간소한 버전의 IMDB 읽기\n",
        "(x_train,y_train),(x_test,y_test)=imdb.load_data(num_words=dic_siz)\n",
        "\n",
        "embed_space_dim=16\n",
        "\n",
        "x_train=preprocessing.sequence.pad_sequences(x_train,maxlen=sample_siz)\n",
        "x_test=preprocessing.sequence.pad_sequences(x_test,maxlen=sample_siz)\n",
        "\n",
        "early=EarlyStopping(monitor='val_accuracy',patience=5,restore_best_weights=True)\n",
        "\n",
        "# 신경망 모델의 설계와 학습(LSTM 층 포함)\n",
        "embed=Sequential()\n",
        "embed.add(Embedding(input_dim=dic_siz,output_dim=embed_space_dim,input_length=sample_siz))\n",
        "embed.add(LSTM(units=32))\n",
        "embed.add(Dense(1,activation='sigmoid'))\n",
        "embed.compile(loss='binary_crossentropy',optimizer='Adam',metrics=['accuracy'])\n",
        "hist=embed.fit(x_train,y_train,epochs=20,batch_size=64,validation_split=0.2,verbose=2,callbacks=[early])\n",
        "\n",
        "# 모델 평가\n",
        "res=embed.evaluate(x_test,y_test,verbose=0)\n",
        "print(\"정확률은\",res[1]*100)\n",
        "\n",
        "import matplotlib.pyplot as plt\n",
        "\n",
        "# 학습 곡선\n",
        "plt.plot(hist.history['accuracy'])\n",
        "plt.plot(hist.history['val_accuracy'])\n",
        "plt.title('Model accuracy')\n",
        "plt.ylabel('Accuracy')\n",
        "plt.xlabel('Epoch')\n",
        "plt.legend(['Train','Validation'], loc='best')\n",
        "plt.grid()\n",
        "plt.show()"
      ]
    }
  ]
}