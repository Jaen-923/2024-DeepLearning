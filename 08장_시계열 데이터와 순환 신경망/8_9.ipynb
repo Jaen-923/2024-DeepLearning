{
  "nbformat": 4,
  "nbformat_minor": 0,
  "metadata": {
    "colab": {
      "provenance": []
    },
    "kernelspec": {
      "name": "python3",
      "display_name": "Python 3"
    },
    "language_info": {
      "name": "python"
    }
  },
  "cells": [
    {
      "cell_type": "code",
      "execution_count": null,
      "metadata": {
        "id": "WLPK-DFDiuqp"
      },
      "outputs": [],
      "source": [
        "import os\n",
        "import numpy as np\n",
        "from scipy.spatial import distance\n",
        "\n",
        "# IMDB 원본 데이터 읽기\n",
        "fname='./glove.6B/glove.6B.100d.txt'\n",
        "f=open(fname,encoding='utf8')\n",
        "\n",
        "for line in f: # 첫 번째 단어만 출력\n",
        "    print(type(line))\n",
        "    print(line)\n",
        "    break\n",
        "\n",
        "# 사전 구축(딕셔너리 자료구조로 표현)\n",
        "dictionary={}\n",
        "for line in f:\n",
        "    li=line.split()\n",
        "    word=li[0]\n",
        "    vector=np.asarray(li[1:],dtype='float32')\n",
        "    dictionary[word]=vector\n",
        "\n",
        "# 가장 가까운 단어를 찾아주는 함수\n",
        "def find_closest_words(vector):\n",
        "    return sorted(dictionary.keys(), key=lambda w: distance.euclidean(dictionary[w],vector))\n",
        "\n",
        "# 가까운 단어 찾기\n",
        "print(find_closest_words(dictionary['movie'])[:5])\n",
        "print(find_closest_words(dictionary['school'])[:5])\n",
        "print(find_closest_words(dictionary['oak'])[:5])\n",
        "\n",
        "# 단어 추론\n",
        "print(find_closest_words(dictionary[\"seoul\"]-dictionary[\"korea\"]+dictionary[\"spain\"])[:5])\n",
        "print(find_closest_words(dictionary[\"animal\"]-dictionary[\"lion\"]+dictionary[\"oak\"])[:5])\n",
        "print(find_closest_words(dictionary[\"queen\"]-dictionary[\"king\"]+dictionary[\"actress\"])[:5])\n",
        "\n",
        "from sklearn.manifold import TSNE\n",
        "import matplotlib.pyplot as plt\n",
        "\n",
        "# tsne를 이용하여 2차원 공간으로 축소하고 시각화\n",
        "tsne=TSNE(n_components=2,random_state=0)\n",
        "words=list(dictionary.keys())\n",
        "vectors=[dictionary[word] for word in words]\n",
        "p2=tsne.fit_transform(vectors[:100])\n",
        "plt.scatter(p2[:,0],p2[:,1])\n",
        "\n",
        "for label,x,y in zip(words,p2[:,0],p2[:,1]):\n",
        "    plt.annotate(label,xy=(x,y))"
      ]
    }
  ]
}